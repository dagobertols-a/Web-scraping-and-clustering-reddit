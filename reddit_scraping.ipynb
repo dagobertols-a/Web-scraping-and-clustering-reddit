{
 "cells": [
  {
   "cell_type": "code",
   "execution_count": 2,
   "metadata": {},
   "outputs": [],
   "source": [
    "import praw\n",
    "import sys\n",
    "import pandas as pd\n",
    "import datetime as dt\n",
    "import numpy as np\n",
    "import matplotlib.pyplot as plt \n",
    "import prawcore"
   ]
  },
  {
   "cell_type": "markdown",
   "metadata": {},
   "source": [
    "Here we are going to use python Reddit API  to extract comments from subreddits \"askscience\" "
   ]
  },
  {
   "cell_type": "code",
   "execution_count": 3,
   "metadata": {},
   "outputs": [],
   "source": [
    "#Getting credentials from reddit\n",
    "reddit = praw.Reddit(client_id='iKArzqmTsQ0gug', \\\n",
    "                     client_secret='aZ1PZjHAM19GAq44SMVNoyF55go', \\\n",
    "                     user_agent='scraper', \\\n",
    "                     username='d_aragorn', \\\n",
    "                     password='d1t1sc32nc2')"
   ]
  },
  {
   "cell_type": "code",
   "execution_count": 4,
   "metadata": {},
   "outputs": [],
   "source": [
    "# Object that contains the subreddit askscience\n",
    "subreddit = reddit.subreddit('askscience')\n"
   ]
  },
  {
   "cell_type": "code",
   "execution_count": 5,
   "metadata": {},
   "outputs": [],
   "source": [
    "# Getting  the top 1000 subreddit\n",
    "top_subreddit = subreddit.top(limit=1000)"
   ]
  },
  {
   "cell_type": "code",
   "execution_count": 6,
   "metadata": {},
   "outputs": [],
   "source": [
    "# Dictionary with the columns of interest\n",
    "subreddits_dict = {\"author\":[],\"title\":[],\"score\":[],\"id\":[], \"url\":[], \"comms_num\": [],\"created\": [],\"body\":[]}"
   ]
  },
  {
   "cell_type": "code",
   "execution_count": 7,
   "metadata": {},
   "outputs": [],
   "source": [
    "# Let us get the attributes of subreddit. \n",
    "for submission in top_subreddit:\n",
    "    subreddits_dict[\"title\"].append(submission.title)\n",
    "    subreddits_dict[\"score\"].append(submission.score)\n",
    "    subreddits_dict[\"id\"].append(submission.id)\n",
    "    subreddits_dict[\"url\"].append(submission.url)\n",
    "    subreddits_dict[\"comms_num\"].append(submission.num_comments)\n",
    "    subreddits_dict[\"created\"].append(submission.created)\n",
    "    subreddits_dict[\"body\"].append(submission.selftext)\n",
    "    subreddits_dict[\"author\"].append(submission.author)\n",
    "   "
   ]
  },
  {
   "cell_type": "code",
   "execution_count": 8,
   "metadata": {},
   "outputs": [],
   "source": [
    "# Create a dataframe from the dictionary\n",
    "subreddits_data = pd.DataFrame(subreddits_dict)"
   ]
  },
  {
   "cell_type": "code",
   "execution_count": 9,
   "metadata": {},
   "outputs": [],
   "source": [
    "# Column timestamp is of type string, let us convert it to type timestamp\n",
    "def get_date(created):\n",
    "    return dt.datetime.fromtimestamp(created)\n",
    "\n",
    "_timestamp = subreddits_data[\"created\"].apply(get_date)\n",
    "\n",
    "subreddits_data = subreddits_data.assign(timestamp = _timestamp)\n",
    "\n",
    "del subreddits_data['created']"
   ]
  },
  {
   "cell_type": "code",
   "execution_count": 10,
   "metadata": {},
   "outputs": [
    {
     "name": "stdout",
     "output_type": "stream",
     "text": [
      "<class 'pandas.core.frame.DataFrame'>\n",
      "RangeIndex: 999 entries, 0 to 998\n",
      "Data columns (total 8 columns):\n",
      "author       960 non-null object\n",
      "title        999 non-null object\n",
      "score        999 non-null int64\n",
      "id           999 non-null object\n",
      "url          999 non-null object\n",
      "comms_num    999 non-null int64\n",
      "body         999 non-null object\n",
      "timestamp    999 non-null datetime64[ns]\n",
      "dtypes: datetime64[ns](1), int64(2), object(5)\n",
      "memory usage: 62.5+ KB\n"
     ]
    }
   ],
   "source": [
    "subreddits_data.info()"
   ]
  },
  {
   "cell_type": "markdown",
   "metadata": {},
   "source": [
    "I am interested in studying the relationship between the score, the number of comments \n",
    "and characteristics associated with the author and/or the title of the reddit. Two important attributes related to the reddit author are comment_karma and  link_karma."
   ]
  },
  {
   "cell_type": "code",
   "execution_count": 14,
   "metadata": {},
   "outputs": [],
   "source": [
    "# Function to get comment_karma and link_karma from authors\n",
    "#Function to obtain comment_karma and link_karma from the authors\n",
    "def get_comment_karma(redditor): \n",
    "    #Params:\n",
    "    #redditor is a object type Redditor with name as parameter\n",
    "    \n",
    "    #Return:\n",
    "    # comment_karma\n",
    "    \n",
    "    if redditor: # Check if the author is not NaN\n",
    "        try: \n",
    "            # If there is an author then get comment_karma else return thr type of error encountered\n",
    "            c_karma=reddit.redditor(redditor.name).comment_karma  \n",
    "            return  int(c_karma) \n",
    "        except Exception as e:\n",
    "            return (redditor.name,sys.exc_info()[0])\n",
    "    else:\n",
    "        return np.nan # Return NaN if there is not author\n",
    "    \n",
    "def get_link_karma(redditor):\n",
    "    if redditor:\n",
    "        try:\n",
    "            lnk_karma=reddit.redditor(redditor.name).link_karma  \n",
    "            return int(lnk_karma) \n",
    "        except Exception as e:\n",
    "            return (redditor.name,sys.exc_info()[0])\n",
    "    else:\n",
    "        return np.nan\n",
    "    \n"
   ]
  },
  {
   "cell_type": "code",
   "execution_count": 15,
   "metadata": {},
   "outputs": [],
   "source": [
    "# Adding comments_karma and links_karma to our datasets\n",
    "subreddits_data['author_comments_karma'] = subreddits_data.author.apply(get_comment_karma)\n",
    "subreddits_data['author_links_karma'] = subreddits_data.author.apply(get_link_karma)"
   ]
  },
  {
   "cell_type": "code",
   "execution_count": 17,
   "metadata": {},
   "outputs": [
    {
     "name": "stdout",
     "output_type": "stream",
     "text": [
      "<class 'pandas.core.frame.DataFrame'>\n",
      "RangeIndex: 999 entries, 0 to 998\n",
      "Data columns (total 10 columns):\n",
      "author                   960 non-null object\n",
      "title                    999 non-null object\n",
      "score                    999 non-null int64\n",
      "id                       999 non-null object\n",
      "url                      999 non-null object\n",
      "comms_num                999 non-null int64\n",
      "body                     999 non-null object\n",
      "timestamp                999 non-null datetime64[ns]\n",
      "author_comments_karma    960 non-null object\n",
      "author_links_karma       960 non-null object\n",
      "dtypes: datetime64[ns](1), int64(2), object(7)\n",
      "memory usage: 78.1+ KB\n"
     ]
    }
   ],
   "source": [
    "subreddits_data.info()"
   ]
  },
  {
   "cell_type": "code",
   "execution_count": 18,
   "metadata": {},
   "outputs": [],
   "source": [
    "# Saving data in a csv file\n",
    "subreddits_data.to_csv ('subreddits_data.csv',sep=',',encoding='utf-8',index = None, header=True)"
   ]
  },
  {
   "cell_type": "code",
   "execution_count": 19,
   "metadata": {},
   "outputs": [
    {
     "data": {
      "text/html": [
       "<div>\n",
       "<style scoped>\n",
       "    .dataframe tbody tr th:only-of-type {\n",
       "        vertical-align: middle;\n",
       "    }\n",
       "\n",
       "    .dataframe tbody tr th {\n",
       "        vertical-align: top;\n",
       "    }\n",
       "\n",
       "    .dataframe thead th {\n",
       "        text-align: right;\n",
       "    }\n",
       "</style>\n",
       "<table border=\"1\" class=\"dataframe\">\n",
       "  <thead>\n",
       "    <tr style=\"text-align: right;\">\n",
       "      <th></th>\n",
       "      <th>author</th>\n",
       "      <th>title</th>\n",
       "      <th>score</th>\n",
       "      <th>id</th>\n",
       "      <th>url</th>\n",
       "      <th>comms_num</th>\n",
       "      <th>body</th>\n",
       "      <th>timestamp</th>\n",
       "      <th>author_comments_karma</th>\n",
       "      <th>author_links_karma</th>\n",
       "    </tr>\n",
       "  </thead>\n",
       "  <tbody>\n",
       "    <tr>\n",
       "      <th>0</th>\n",
       "      <td>MockDeath</td>\n",
       "      <td>Help us fight for net neutrality!</td>\n",
       "      <td>83385</td>\n",
       "      <td>7etmk7</td>\n",
       "      <td>https://www.reddit.com/r/askscience/comments/7...</td>\n",
       "      <td>1193</td>\n",
       "      <td>The ability to browse the internet is at risk....</td>\n",
       "      <td>2017-11-22 22:38:53</td>\n",
       "      <td>33852</td>\n",
       "      <td>10762</td>\n",
       "    </tr>\n",
       "    <tr>\n",
       "      <th>1</th>\n",
       "      <td>AskScienceModerator</td>\n",
       "      <td>Stephen Hawking megathread</td>\n",
       "      <td>65826</td>\n",
       "      <td>84auzr</td>\n",
       "      <td>https://www.reddit.com/r/askscience/comments/8...</td>\n",
       "      <td>1666</td>\n",
       "      <td>We were sad to learn that noted physicist, cos...</td>\n",
       "      <td>2018-03-14 09:03:48</td>\n",
       "      <td>1662</td>\n",
       "      <td>290641</td>\n",
       "    </tr>\n",
       "    <tr>\n",
       "      <th>2</th>\n",
       "      <td>MockDeath</td>\n",
       "      <td>A message to our users</td>\n",
       "      <td>39287</td>\n",
       "      <td>3by2nk</td>\n",
       "      <td>https://www.reddit.com/r/askscience/comments/3...</td>\n",
       "      <td>1193</td>\n",
       "      <td>&amp;nbsp;&amp;nbsp;&amp;nbsp;&amp;nbsp;&amp;nbsp;Today in AskScie...</td>\n",
       "      <td>2015-07-03 06:43:47</td>\n",
       "      <td>33852</td>\n",
       "      <td>10762</td>\n",
       "    </tr>\n",
       "    <tr>\n",
       "      <th>3</th>\n",
       "      <td>This31415926535</td>\n",
       "      <td>Why is it that during winter it's not uncommon...</td>\n",
       "      <td>37670</td>\n",
       "      <td>7yx524</td>\n",
       "      <td>https://www.reddit.com/r/askscience/comments/7...</td>\n",
       "      <td>976</td>\n",
       "      <td>I live in the USA Midwest</td>\n",
       "      <td>2018-02-20 19:23:37</td>\n",
       "      <td>1364</td>\n",
       "      <td>10337</td>\n",
       "    </tr>\n",
       "    <tr>\n",
       "      <th>4</th>\n",
       "      <td>GPL89</td>\n",
       "      <td>If we could travel at 99.9% the speed of light...</td>\n",
       "      <td>34364</td>\n",
       "      <td>ahyapf</td>\n",
       "      <td>https://www.reddit.com/r/askscience/comments/a...</td>\n",
       "      <td>3094</td>\n",
       "      <td>NaN</td>\n",
       "      <td>2019-01-20 17:57:37</td>\n",
       "      <td>4794</td>\n",
       "      <td>13561</td>\n",
       "    </tr>\n",
       "  </tbody>\n",
       "</table>\n",
       "</div>"
      ],
      "text/plain": [
       "                author                                              title  \\\n",
       "0            MockDeath                  Help us fight for net neutrality!   \n",
       "1  AskScienceModerator                         Stephen Hawking megathread   \n",
       "2            MockDeath                             A message to our users   \n",
       "3      This31415926535  Why is it that during winter it's not uncommon...   \n",
       "4                GPL89  If we could travel at 99.9% the speed of light...   \n",
       "\n",
       "   score      id                                                url  \\\n",
       "0  83385  7etmk7  https://www.reddit.com/r/askscience/comments/7...   \n",
       "1  65826  84auzr  https://www.reddit.com/r/askscience/comments/8...   \n",
       "2  39287  3by2nk  https://www.reddit.com/r/askscience/comments/3...   \n",
       "3  37670  7yx524  https://www.reddit.com/r/askscience/comments/7...   \n",
       "4  34364  ahyapf  https://www.reddit.com/r/askscience/comments/a...   \n",
       "\n",
       "   comms_num                                               body  \\\n",
       "0       1193  The ability to browse the internet is at risk....   \n",
       "1       1666  We were sad to learn that noted physicist, cos...   \n",
       "2       1193  &nbsp;&nbsp;&nbsp;&nbsp;&nbsp;Today in AskScie...   \n",
       "3        976                          I live in the USA Midwest   \n",
       "4       3094                                                NaN   \n",
       "\n",
       "             timestamp author_comments_karma author_links_karma  \n",
       "0  2017-11-22 22:38:53                 33852              10762  \n",
       "1  2018-03-14 09:03:48                  1662             290641  \n",
       "2  2015-07-03 06:43:47                 33852              10762  \n",
       "3  2018-02-20 19:23:37                  1364              10337  \n",
       "4  2019-01-20 17:57:37                  4794              13561  "
      ]
     },
     "execution_count": 19,
     "metadata": {},
     "output_type": "execute_result"
    }
   ],
   "source": [
    "reddit_data=pd.read_csv('subreddits_data.csv')  \n",
    "reddit_data.head()"
   ]
  },
  {
   "cell_type": "code",
   "execution_count": null,
   "metadata": {},
   "outputs": [],
   "source": []
  }
 ],
 "metadata": {
  "kernelspec": {
   "display_name": "Python 3",
   "language": "python",
   "name": "python3"
  },
  "language_info": {
   "codemirror_mode": {
    "name": "ipython",
    "version": 3
   },
   "file_extension": ".py",
   "mimetype": "text/x-python",
   "name": "python",
   "nbconvert_exporter": "python",
   "pygments_lexer": "ipython3",
   "version": "3.6.8"
  }
 },
 "nbformat": 4,
 "nbformat_minor": 2
}
